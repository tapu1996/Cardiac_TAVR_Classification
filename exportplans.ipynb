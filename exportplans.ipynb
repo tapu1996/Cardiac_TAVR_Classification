{
 "cells": [
  {
   "cell_type": "code",
   "execution_count": 26,
   "metadata": {},
   "outputs": [],
   "source": [
    "from plans_handler import *\n",
    "from nnunetv2.utilities.get_network_from_plans import get_network_from_plans\n"
   ]
  },
  {
   "cell_type": "code",
   "execution_count": null,
   "metadata": {},
   "outputs": [],
   "source": [
    "cd "
   ]
  },
  {
   "cell_type": "code",
   "execution_count": 27,
   "metadata": {},
   "outputs": [],
   "source": [
    "p = PlansManager(plans_file_or_dict=\"/home/student/tapotoshghosh/nnunetroot/results/Dataset015_Segmented12Mar/nnUNetTrainer__nnUNetPlans__3d_fullres/plans.json\")"
   ]
  },
  {
   "cell_type": "code",
   "execution_count": 28,
   "metadata": {},
   "outputs": [
    {
     "name": "stderr",
     "output_type": "stream",
     "text": [
      "/home/student/tapotoshghosh/nnunet/nnUNet/nnunetv2/utilities/plans_handling/plans_handler.py:37: UserWarning: Detected old nnU-Net plans format. Attempting to reconstruct network architecture parameters. If this fails, rerun nnUNetv2_plan_experiment for your dataset. If you use a custom architecture, please downgrade nnU-Net to the version you implemented this or update your implementation + plans.\n",
      "  warnings.warn(\"Detected old nnU-Net plans format. Attempting to reconstruct network architecture \"\n"
     ]
    }
   ],
   "source": [
    "config = p.get_configuration(configuration_name=\"3d_fullres\")"
   ]
  },
  {
   "cell_type": "code",
   "execution_count": 29,
   "metadata": {},
   "outputs": [
    {
     "data": {
      "text/plain": [
       "{'data_identifier': 'nnUNetPlans_3d_fullres', 'preprocessor_name': 'DefaultPreprocessor', 'batch_size': 2, 'patch_size': [48, 192, 192], 'median_image_size_in_voxels': [128.0, 512.0, 512.0], 'spacing': [1.25, 0.4882810115814209, 0.4882810115814209], 'normalization_schemes': ['CTNormalization'], 'use_mask_for_norm': [False], 'resampling_fn_data': 'resample_data_or_seg_to_shape', 'resampling_fn_seg': 'resample_data_or_seg_to_shape', 'resampling_fn_data_kwargs': {'is_seg': False, 'order': 3, 'order_z': 0, 'force_separate_z': None}, 'resampling_fn_seg_kwargs': {'is_seg': True, 'order': 1, 'order_z': 0, 'force_separate_z': None}, 'resampling_fn_probabilities': 'resample_data_or_seg_to_shape', 'resampling_fn_probabilities_kwargs': {'is_seg': False, 'order': 1, 'order_z': 0, 'force_separate_z': None}, 'batch_dice': True, 'architecture': {'network_class_name': 'dynamic_network_architectures.architectures.unet.PlainConvUNet', 'arch_kwargs': {'n_stages': 6, 'features_per_stage': [32, 64, 128, 256, 320, 320], 'conv_op': 'torch.nn.modules.conv.Conv3d', 'kernel_sizes': [[1, 3, 3], [3, 3, 3], [3, 3, 3], [3, 3, 3], [3, 3, 3], [3, 3, 3]], 'strides': [[1, 1, 1], [1, 2, 2], [2, 2, 2], [2, 2, 2], [2, 2, 2], [1, 2, 2]], 'n_conv_per_stage': [2, 2, 2, 2, 2, 2], 'n_conv_per_stage_decoder': [2, 2, 2, 2, 2], 'conv_bias': True, 'norm_op': 'torch.nn.modules.instancenorm.InstanceNorm3d', 'norm_op_kwargs': {'eps': 1e-05, 'affine': True}, 'dropout_op': None, 'dropout_op_kwargs': None, 'nonlin': 'torch.nn.LeakyReLU', 'nonlin_kwargs': {'inplace': True}}, '_kw_requires_import': ['conv_op', 'norm_op', 'dropout_op', 'nonlin']}}"
      ]
     },
     "execution_count": 29,
     "metadata": {},
     "output_type": "execute_result"
    }
   ],
   "source": [
    "config"
   ]
  },
  {
   "cell_type": "code",
   "execution_count": 30,
   "metadata": {},
   "outputs": [],
   "source": [
    "architecture_class_name = config.network_arch_class_name\n",
    "arch_init_kwargs = config.network_arch_init_kwargs\n",
    "arch_init_kwargs_req_import = config.network_arch_init_kwargs_req_import\n",
    "num_input_channels = 1\n",
    "num_output_channels = 10"
   ]
  },
  {
   "cell_type": "code",
   "execution_count": 31,
   "metadata": {},
   "outputs": [
    {
     "data": {
      "text/plain": [
       "{'n_stages': 6,\n",
       " 'features_per_stage': [32, 64, 128, 256, 320, 320],\n",
       " 'conv_op': 'torch.nn.modules.conv.Conv3d',\n",
       " 'kernel_sizes': [[1, 3, 3],\n",
       "  [3, 3, 3],\n",
       "  [3, 3, 3],\n",
       "  [3, 3, 3],\n",
       "  [3, 3, 3],\n",
       "  [3, 3, 3]],\n",
       " 'strides': [[1, 1, 1], [1, 2, 2], [2, 2, 2], [2, 2, 2], [2, 2, 2], [1, 2, 2]],\n",
       " 'n_conv_per_stage': [2, 2, 2, 2, 2, 2],\n",
       " 'n_conv_per_stage_decoder': [2, 2, 2, 2, 2],\n",
       " 'conv_bias': True,\n",
       " 'norm_op': 'torch.nn.modules.instancenorm.InstanceNorm3d',\n",
       " 'norm_op_kwargs': {'eps': 1e-05, 'affine': True},\n",
       " 'dropout_op': None,\n",
       " 'dropout_op_kwargs': None,\n",
       " 'nonlin': 'torch.nn.LeakyReLU',\n",
       " 'nonlin_kwargs': {'inplace': True}}"
      ]
     },
     "execution_count": 31,
     "metadata": {},
     "output_type": "execute_result"
    }
   ],
   "source": [
    "arch_init_kwargs"
   ]
  },
  {
   "cell_type": "code",
   "execution_count": 32,
   "metadata": {},
   "outputs": [
    {
     "ename": "AttributeError",
     "evalue": "'list' object has no attribute 'conv_kernel_sizes'",
     "output_type": "error",
     "traceback": [
      "\u001b[0;31m---------------------------------------------------------------------------\u001b[0m",
      "\u001b[0;31mAttributeError\u001b[0m                            Traceback (most recent call last)",
      "Cell \u001b[0;32mIn[32], line 1\u001b[0m\n\u001b[0;32m----> 1\u001b[0m model \u001b[38;5;241m=\u001b[39m get_network_from_plans(\n\u001b[1;32m      2\u001b[0m             architecture_class_name,\n\u001b[1;32m      3\u001b[0m             arch_init_kwargs,\n\u001b[1;32m      4\u001b[0m             arch_init_kwargs_req_import,\n\u001b[1;32m      5\u001b[0m             num_input_channels,\n\u001b[1;32m      6\u001b[0m             num_output_channels)\n",
      "File \u001b[0;32m~/anaconda3/lib/python3.11/site-packages/nnunetv2/utilities/get_network_from_plans.py:20\u001b[0m, in \u001b[0;36mget_network_from_plans\u001b[0;34m(plans_manager, dataset_json, configuration_manager, num_input_channels, deep_supervision)\u001b[0m\n\u001b[1;32m      9\u001b[0m \u001b[38;5;28;01mdef\u001b[39;00m \u001b[38;5;21mget_network_from_plans\u001b[39m(plans_manager: PlansManager,\n\u001b[1;32m     10\u001b[0m                            dataset_json: \u001b[38;5;28mdict\u001b[39m,\n\u001b[1;32m     11\u001b[0m                            configuration_manager: ConfigurationManager,\n\u001b[1;32m     12\u001b[0m                            num_input_channels: \u001b[38;5;28mint\u001b[39m,\n\u001b[1;32m     13\u001b[0m                            deep_supervision: \u001b[38;5;28mbool\u001b[39m \u001b[38;5;241m=\u001b[39m \u001b[38;5;28;01mTrue\u001b[39;00m):\n\u001b[1;32m     14\u001b[0m \u001b[38;5;250m    \u001b[39m\u001b[38;5;124;03m\"\"\"\u001b[39;00m\n\u001b[1;32m     15\u001b[0m \u001b[38;5;124;03m    we may have to change this in the future to accommodate other plans -> network mappings\u001b[39;00m\n\u001b[1;32m     16\u001b[0m \n\u001b[1;32m     17\u001b[0m \u001b[38;5;124;03m    num_input_channels can differ depending on whether we do cascade. Its best to make this info available in the\u001b[39;00m\n\u001b[1;32m     18\u001b[0m \u001b[38;5;124;03m    trainer rather than inferring it again from the plans here.\u001b[39;00m\n\u001b[1;32m     19\u001b[0m \u001b[38;5;124;03m    \"\"\"\u001b[39;00m\n\u001b[0;32m---> 20\u001b[0m     num_stages \u001b[38;5;241m=\u001b[39m \u001b[38;5;28mlen\u001b[39m(configuration_manager\u001b[38;5;241m.\u001b[39mconv_kernel_sizes)\n\u001b[1;32m     22\u001b[0m     dim \u001b[38;5;241m=\u001b[39m \u001b[38;5;28mlen\u001b[39m(configuration_manager\u001b[38;5;241m.\u001b[39mconv_kernel_sizes[\u001b[38;5;241m0\u001b[39m])\n\u001b[1;32m     23\u001b[0m     conv_op \u001b[38;5;241m=\u001b[39m convert_dim_to_conv_op(dim)\n",
      "\u001b[0;31mAttributeError\u001b[0m: 'list' object has no attribute 'conv_kernel_sizes'"
     ]
    }
   ],
   "source": [
    "model = get_network_from_plans(\n",
    "            architecture_class_name,\n",
    "            arch_init_kwargs,\n",
    "            arch_init_kwargs_req_import,\n",
    "            num_input_channels,\n",
    "            num_output_channels)"
   ]
  },
  {
   "cell_type": "code",
   "execution_count": null,
   "metadata": {},
   "outputs": [],
   "source": []
  }
 ],
 "metadata": {
  "kernelspec": {
   "display_name": "base",
   "language": "python",
   "name": "python3"
  },
  "language_info": {
   "codemirror_mode": {
    "name": "ipython",
    "version": 3
   },
   "file_extension": ".py",
   "mimetype": "text/x-python",
   "name": "python",
   "nbconvert_exporter": "python",
   "pygments_lexer": "ipython3",
   "version": "3.11.5"
  }
 },
 "nbformat": 4,
 "nbformat_minor": 2
}
