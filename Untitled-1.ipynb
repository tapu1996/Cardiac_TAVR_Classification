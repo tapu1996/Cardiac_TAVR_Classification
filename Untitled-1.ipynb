{
 "cells": [
  {
   "cell_type": "code",
   "execution_count": null,
   "metadata": {},
   "outputs": [],
   "source": [
    "import torch\n",
    "import torch.nn as nn\n",
    "import torch.optim as optim\n",
    "from torchvision import models  # if you're using a pretrained CNN encoder\n",
    "\n",
    "class EncoderClassifier(nn.Module):\n",
    "    def __init__(self, num_classes):\n",
    "        super(EncoderClassifier, self).__init__()\n",
    "        \n",
    "        # Load pretrained encoder\n",
    "        self.encoder_model = torch.load(\"/home/student/tapotoshghosh/pretrainedEncoder/model.pt\")  # Or whatever model architecture you're using\n",
    "        encoder_output_size = self.encoder_model.fc.in_features\n",
    "        \n",
    "        # Trim the first layer (assuming it's the first module)\n",
    "        self.encoder_model = nn.Sequential(*list(self.encoder_model.children())[1:]) \n",
    "        \n",
    "        # Update the output size of the encoder\n",
    "        encoder_output_size = self.encoder_model.fc.in_features\n",
    "        \n",
    "        # Add a classification head\n",
    "        self.classifier = nn.Sequential(\n",
    "            nn.Linear(encoder_output_size, num_classes),  # num_classes is the number of classes in your classification task\n",
    "            nn.LogSoftmax(dim=1)  # if using cross-entropy loss\n",
    "        )\n",
    "        \n",
    "    def forward(self, x):\n",
    "        x = self.encoder_model(x)\n",
    "        x = self.classifier(x)\n",
    "        return x\n",
    "\n",
    "# Usage\n",
    "num_classes = 10  # Example: 10 classes\n",
    "model = EncoderClassifier(num_classes)\n",
    "\n",
    "# Define loss function and optimizer\n",
    "criterion = nn.CrossEntropyLoss()\n",
    "optimizer = optim.Adam(model.parameters(), lr=0.001)\n",
    "\n",
    "# Training loop, validation, and evaluation as shown in the previous example\n"
   ]
  }
 ],
 "metadata": {
  "language_info": {
   "name": "python"
  }
 },
 "nbformat": 4,
 "nbformat_minor": 2
}
